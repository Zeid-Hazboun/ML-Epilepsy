{
 "cells": [
  {
   "cell_type": "code",
   "execution_count": 19,
   "metadata": {},
   "outputs": [],
   "source": [
    "from sklearn.decomposition import FastICA\n",
    "import numpy as np\n",
    "import pandas as pd\n",
    "import matplotlib.pyplot as plt\n",
    "import mne"
   ]
  },
  {
   "cell_type": "code",
   "execution_count": 20,
   "metadata": {},
   "outputs": [],
   "source": [
    "def ICA_opp(X):\n",
    "    ica = FastICA(n_components = 18)\n",
    "    out_ICA = pd.DataFrame(ica.fit_transform(X))\n",
    "    \n",
    "    return out_ICA, ica\n",
    "\n",
    "def remove_epilepsy(df):\n",
    "    df_y = df['Epilepsy'].copy()\n",
    "    df_x = df.drop('Epilepsy', axis=1).copy()   \n",
    "\n",
    "    return df_x, df_y\n",
    "\n",
    "\n",
    "def remerge_epilepsy(X, Y):\n",
    "    merged_df = X.join(Y)\n",
    "    return merged_df\n",
    "\n",
    "def remove_comp(df, comp):\n",
    "    df_x = df[comp] = 0\n",
    "    return df_x\n",
    "\n",
    "def reconstruct(df, ica):\n",
    "    column_names = [\"Fp1\", \"Fp2\", \"F7\", \"F3\", \"Fz\", \"F4\", \"F8\", \"T3\",\"C3\", \"C4\", \"T4\", \"T5\",\"P3\", \"Pz\", \"P4\", \"T6\", \"O1\", \"O2\"]\n",
    "    return pd.DataFrame(np.dot(df, ica.mixing_.T), columns=column_names)\n",
    "\n",
    "def remove(df, remove):\n",
    "    for name in remove:\n",
    "        df[name] = 0\n",
    "    return df\n",
    "\n",
    "def ICA(df):\n",
    "    df_x, df_y = remove_epilepsy(df)\n",
    "    out_ica, ica = ICA(df_x)\n",
    "    out_ica = remove_comp(out_ica, 0)\n",
    "    df_x = reconstruct(out_ica, ica)\n",
    "    df = remerge_epilepsy(df_x, df_y)    \n",
    "    return df"
   ]
  },
  {
   "cell_type": "code",
   "execution_count": 21,
   "metadata": {},
   "outputs": [],
   "source": [
    "df = pd.read_csv(\"patient1_full.csv\")"
   ]
  },
  {
   "cell_type": "code",
   "execution_count": 22,
   "metadata": {},
   "outputs": [],
   "source": [
    "df_x, df_y = remove_epilepsy(df)"
   ]
  },
  {
   "cell_type": "code",
   "execution_count": 23,
   "metadata": {},
   "outputs": [
    {
     "name": "stderr",
     "output_type": "stream",
     "text": [
      "/Users/zeidsmac/miniforge3/envs/bsc_thesis/lib/python3.9/site-packages/sklearn/decomposition/_fastica.py:542: FutureWarning: Starting in v1.3, whiten='unit-variance' will be used by default.\n",
      "  warnings.warn(\n"
     ]
    }
   ],
   "source": [
    "out_ica, ica = ICA_opp(df_x)"
   ]
  },
  {
   "cell_type": "code",
   "execution_count": 24,
   "metadata": {},
   "outputs": [],
   "source": [
    "variances = np.var(out_ica, axis=0)"
   ]
  },
  {
   "cell_type": "code",
   "execution_count": 32,
   "metadata": {},
   "outputs": [
    {
     "name": "stdout",
     "output_type": "stream",
     "text": [
      "2.197802197802223e-05\n",
      "2.197802197802223e-05\n",
      "2.197802197802223e-05\n",
      "2.197802197802223e-05\n",
      "2.197802197802223e-05\n",
      "2.197802197802223e-05\n",
      "2.197802197802223e-05\n",
      "2.197802197802223e-05\n",
      "2.197802197802223e-05\n",
      "2.197802197802223e-05\n",
      "2.197802197802223e-05\n",
      "2.197802197802223e-05\n",
      "2.197802197802223e-05\n",
      "2.197802197802223e-05\n",
      "2.197802197802223e-05\n",
      "2.197802197802223e-05\n",
      "2.197802197802223e-05\n",
      "2.197802197802223e-05\n"
     ]
    }
   ],
   "source": [
    "for i in range(0,18):\n",
    "   print(np.var(out_ica[out_ica.columns[0]]))"
   ]
  },
  {
   "cell_type": "code",
   "execution_count": 35,
   "metadata": {},
   "outputs": [],
   "source": [
    "positions_1020 = {\n",
    "    \"Fp1\": (0.1, 0.9),\n",
    "    \"Fp2\": (0.9, 0.9),\n",
    "    \"F7\": (0.15, 0.8),\n",
    "    \"F3\": (0.3, 0.8),\n",
    "    \"Fz\": (0.5, 0.9),\n",
    "    \"F4\": (0.7, 0.8),\n",
    "    \"F8\": (0.85, 0.8),\n",
    "    \"T3\": (0.2, 0.7),\n",
    "    \"C3\": (0.3, 0.7),\n",
    "    \"C4\": (0.7, 0.7),\n",
    "    \"T4\": (0.8, 0.7),\n",
    "    \"T5\": (0.15, 0.6),\n",
    "    \"P3\": (0.3, 0.6),\n",
    "    \"Pz\": (0.5, 0.5),\n",
    "    \"P4\": (0.7, 0.6),\n",
    "    \"T6\": (0.85, 0.6),\n",
    "    \"O1\": (0.2, 0.4),\n",
    "    \"O2\": (0.8, 0.4),\n",
    "}"
   ]
  },
  {
   "cell_type": "code",
   "execution_count": 36,
   "metadata": {},
   "outputs": [],
   "source": [
    "channel_names = [\n",
    "    \"Fp1\", \"Fp2\", \"F7\", \"F3\", \"Fz\", \"F4\", \"F8\", \"T3\", \"C3\", \"C4\",\n",
    "    \"T4\", \"T5\", \"P3\", \"Pz\", \"P4\", \"T6\", \"O1\", \"O2\"\n",
    "]"
   ]
  },
  {
   "cell_type": "code",
   "execution_count": 41,
   "metadata": {},
   "outputs": [],
   "source": [
    "remove_components = [0]\n",
    "for component in remove_components:\n",
    "    out_ica[component] = 0\n",
    "\n",
    "reconstructed = pd.DataFrame(np.dot(out_ica, ica.mixing_.T), columns=channel_names)\n"
   ]
  },
  {
   "cell_type": "code",
   "execution_count": 39,
   "metadata": {},
   "outputs": [],
   "source": [
    "channels_dict = {\"Fp1\" : 0, \n",
    "                    \"Fp2\" : 1,\n",
    "                    \"F7\" : 2,\n",
    "                    \"F3\" : 3,\n",
    "                    \"Fz\" : 4,\n",
    "                    \"F4\": 5,\n",
    "                    \"F8\": 6,\n",
    "                    \"T3\": 7,\n",
    "                    \"C3\": 8,\n",
    "                    \"C4\": 9,\n",
    "                    \"T4\": 10,\n",
    "                    \"T5\": 11,\n",
    "                    \"P3\": 12,\n",
    "                    \"Pz\": 13,\n",
    "                    \"P4\": 14,\n",
    "                    \"T6\": 15,\n",
    "                    \"O1\": 16,\n",
    "                    \"O2\": 17,\n",
    "                    \"Epilepsy\": 18}\n",
    "\n",
    "for key, value in channels_dict.items():\n",
    "    if value<18:\n",
    "        plt.figure(figsize=(20,20))\n",
    "        plt.plot(out_ica[out_ica.columns[value]], c = 'blue')\n",
    "        plt.title(\"ICA for: {}\".format(key))\n",
    "        plt.xlabel(\"Sample index\")\n",
    "        plt.ylabel(\"ICA Score\")\n",
    "        plt.show()\n"
   ]
  },
  {
   "cell_type": "code",
   "execution_count": null,
   "metadata": {},
   "outputs": [],
   "source": []
  },
  {
   "cell_type": "code",
   "execution_count": null,
   "metadata": {},
   "outputs": [],
   "source": []
  }
 ],
 "metadata": {
  "kernelspec": {
   "display_name": "bsc_thesis",
   "language": "python",
   "name": "python3"
  },
  "language_info": {
   "codemirror_mode": {
    "name": "ipython",
    "version": 3
   },
   "file_extension": ".py",
   "mimetype": "text/x-python",
   "name": "python",
   "nbconvert_exporter": "python",
   "pygments_lexer": "ipython3",
   "version": "3.9.16"
  },
  "orig_nbformat": 4
 },
 "nbformat": 4,
 "nbformat_minor": 2
}
